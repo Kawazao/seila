{
  "nbformat": 4,
  "nbformat_minor": 0,
  "metadata": {
    "colab": {
      "provenance": [],
      "include_colab_link": true
    },
    "kernelspec": {
      "name": "python3",
      "display_name": "Python 3"
    },
    "language_info": {
      "name": "python"
    }
  },
  "cells": [
    {
      "cell_type": "markdown",
      "metadata": {
        "id": "view-in-github",
        "colab_type": "text"
      },
      "source": [
        "<a href=\"https://colab.research.google.com/github/Kawazao/seila/blob/main/programa_y_programa.ipynb\" target=\"_parent\"><img src=\"https://colab.research.google.com/assets/colab-badge.svg\" alt=\"Open In Colab\"/></a>"
      ]
    },
    {
      "cell_type": "code",
      "execution_count": null,
      "metadata": {
        "colab": {
          "base_uri": "https://localhost:8080/"
        },
        "id": "SyUNHDI6hSk8",
        "outputId": "547496be-3206-42f1-af21-5c024418dcca"
      },
      "outputs": [
        {
          "output_type": "stream",
          "name": "stdout",
          "text": [
            "Digite o valor em Graus Farenheit: 20\n",
            "O valor de 20.0°f corresponde ao valor -6.666666666666667°c\n"
          ]
        }
      ],
      "source": [
        "F = float(input(\"Digite o valor em Graus Farenheit: \"))\n",
        "C = (5/9)*(F-32)\n",
        "print(f\"O valor de {F}°f corresponde ao valor {C}°c\")"
      ]
    },
    {
      "cell_type": "code",
      "source": [
        "P = float(input(\"Digite o valor em Polegadas: \"))\n",
        "mm = P*25-4\n",
        "print(f\"o valor de {P}pol correponde ao valor de {mm}mm\")\n"
      ],
      "metadata": {
        "colab": {
          "base_uri": "https://localhost:8080/"
        },
        "id": "yVfQHeuPj6fN",
        "outputId": "5f355147-3071-41cd-98ce-6024a6bf4f58"
      },
      "execution_count": null,
      "outputs": [
        {
          "output_type": "stream",
          "name": "stdout",
          "text": [
            "Digite o valor em Polegadas: 2000\n",
            "o valor de 2000.0pol correponde ao valor de 49996.0mm\n"
          ]
        }
      ]
    },
    {
      "cell_type": "code",
      "source": [
        "I = int(input(\"Digite sua Idade: \"))\n",
        "if I >= 16:\n",
        "   print(\"pode votar\")\n",
        "else:\n",
        "   print(\"não pode votar\")"
      ],
      "metadata": {
        "colab": {
          "base_uri": "https://localhost:8080/"
        },
        "id": "5yA3o84Hp4Iz",
        "outputId": "5ad44261-6093-474e-d81c-a92f7a904567"
      },
      "execution_count": null,
      "outputs": [
        {
          "output_type": "stream",
          "name": "stdout",
          "text": [
            "Digite sua Idade: 17\n",
            "pode votar\n"
          ]
        }
      ]
    },
    {
      "cell_type": "code",
      "source": [
        "idade = int(input(\"Digite a sua idade: \"))\n",
        "if 16<= idade < 70:\n",
        "  print(\"Você está na faixa etária entre 16 e 70.\")\n",
        "else:\n",
        "  print(\"Você está fora da faixa etária entre 16 e 70.\")"
      ],
      "metadata": {
        "colab": {
          "base_uri": "https://localhost:8080/"
        },
        "id": "L9_aWBzPtaH7",
        "outputId": "96f28265-2290-496d-dcbc-40becb33a3c5"
      },
      "execution_count": null,
      "outputs": [
        {
          "output_type": "stream",
          "name": "stdout",
          "text": [
            "Digite a sua idade: 15\n",
            "Você está fora da faixa etária entre 16 e 70.\n"
          ]
        }
      ]
    },
    {
      "cell_type": "code",
      "source": [
        "while True:\n",
        "    resposta = input(\"Deseja realizar uma soma? (sim/não): \").lower()\n",
        "    if resposta == \"sim\":\n",
        "        num1 = float(input(\"Digite o primeiro número: \"))\n",
        "        num2 = float(input(\"Digite o segundo número: \" ))\n",
        "        soma = num1 + num2 # calculo\n",
        "        print (\"A soma é:\" , soma)\n",
        "    else:\n",
        "        print(\"Encerrando o programa. \")\n",
        "        break"
      ],
      "metadata": {
        "colab": {
          "base_uri": "https://localhost:8080/"
        },
        "id": "Ag2O0z9Q2ifb",
        "outputId": "a364e1c7-e6f2-4697-b5fa-65a623e5143f"
      },
      "execution_count": 7,
      "outputs": [
        {
          "output_type": "stream",
          "name": "stdout",
          "text": [
            "Deseja realizar uma soma? (sim/não): sim\n",
            "Digite o primeiro número: 1\n",
            "Digite o segundo número: 3\n",
            "A soma é: 4.0\n",
            "Deseja realizar uma soma? (sim/não): não\n",
            "Encerrando o programa. \n"
          ]
        }
      ]
    },
    {
      "cell_type": "markdown",
      "source": [],
      "metadata": {
        "id": "8A6WWTWo3_dD"
      }
    }
  ]
}